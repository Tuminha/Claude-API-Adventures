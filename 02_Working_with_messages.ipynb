{
 "cells": [
  {
   "cell_type": "markdown",
   "metadata": {},
   "source": [
    "## In this notebook we will:\n",
    "\n",
    "* 📜 Understand the messages API format\n",
    "* 🧠 Work with and understand model response objects\n",
    "* 🤖 Build a simple multi-turn chatbot"
   ]
  },
  {
   "cell_type": "markdown",
   "metadata": {},
   "source": [
    "### 📦 We'll start by importing the packages we need and initializing a client object"
   ]
  },
  {
   "cell_type": "code",
   "execution_count": 2,
   "metadata": {},
   "outputs": [
    {
     "name": "stdout",
     "output_type": "stream",
     "text": [
      "Yes\n"
     ]
    }
   ],
   "source": [
    "from dotenv import load_dotenv\n",
    "from anthropic import Anthropic\n",
    "\n",
    "#load environment variable\n",
    "load_dotenv()\n",
    "\n",
    "#automatically looks for an \"ANTHROPIC_API_KEY\" environment variable\n",
    "client = Anthropic()\n",
    "\n",
    "# Check if the API key is loaded by safely printing a \"Yes\" instead of the full API key.\n",
    "if client.api_key:\n",
    "    print(\"Yes\")\n",
    "else:\n",
    "    print(\"No\")\n"
   ]
  },
  {
   "cell_type": "markdown",
   "metadata": {},
   "source": [
    "### As we saw in the previous lesson 📚, in the Jupyter notebook 01__basic_Claude_SDK, we can use client.messages.create() to send a message to Claude and get a response 🤖:"
   ]
  },
  {
   "cell_type": "code",
   "execution_count": 3,
   "metadata": {},
   "outputs": [
    {
     "name": "stdout",
     "output_type": "stream",
     "text": [
      "Making money can be challenging for several reasons:\n",
      "\n",
      "1. Competition: Many people and businesses are vying for the same opportunities and resources.\n",
      "\n",
      "2. Limited resources: Time, energy, and capital are finite, which can limit your ability to pursue multiple opportunities.\n",
      "\n",
      "3. Skill and knowledge requirements: Many high-paying jobs or business opportunities require specialized skills or education.\n",
      "\n",
      "4. Economic factors: Inflation, recessions, and market fluctuations can affect earning potential and job availability.\n",
      "\n",
      "5. Systemic barriers: Socioeconomic background, discrimination, and lack of access to resources can create obstacles.\n",
      "\n",
      "6. Changing job market: Technological advancements and globalization can lead to job displacement or require constant upskilling.\n",
      "\n",
      "7. Mindset and habits: Poor financial habits or limiting beliefs can hinder wealth accumulation.\n",
      "\n",
      "8. Risk aversion: Fear of failure or taking calculated risks can prevent people from pursuing lucrative opportunities.\n",
      "\n",
      "9. Lack of financial education: Many people aren't taught how to manage money effectively or make smart investments.\n",
      "\n",
      "10. Debt: High levels of personal or student debt can make it difficult to get ahead financially.\n",
      "\n",
      "11. Taxes and regulations: Government policies can impact earning potential and business growth.\n",
      "\n",
      "12. Work-life balance: Pursuing financial success often requires sacrificing time and energy from other areas of life.\n",
      "\n",
      "While these factors can make earning money challenging, it's not impossible. Success often comes from a combination of hard work, smart planning, continuous learning, and adaptability to changing circumstances.\n"
     ]
    }
   ],
   "source": [
    "response=client.messages.create(\n",
    "    model=\"claude-3-5-sonnet-20240620\",\n",
    "    max_tokens=1000,\n",
    "    messages=[{\"role\": \"user\",\n",
    "               \"content\": \"Why is so difficult to make money?\"}\n",
    "    ]\n",
    ")\n",
    "\n",
    "print(response.content[0].text)"
   ]
  },
  {
   "cell_type": "markdown",
   "metadata": {},
   "source": [
    "### 🚀 Now let's move to an example with multiple messages representing a conversation 💬:\n",
    "\n",
    "#### In this example we show the structure:\n",
    "\n",
    "* 1. The first message is from the user, asking why it's difficult to make money.\n",
    "* 2. The second message is the assistant's response to that question.\n",
    "* 3. The third message is another user question, continuing the conversation.\n",
    "\n",
    "The final output you received was in response to the last user question, \"What can I do to make more money?\". The API generates a response based on the entire conversation context, including previous messages.\n",
    "\n",
    "This format allows you to maintain context across multiple turns of conversation, which can be useful for more complex interactions or when you want the AI to consider previous parts of the conversation in its responses."
   ]
  },
  {
   "cell_type": "code",
   "execution_count": 4,
   "metadata": {},
   "outputs": [
    {
     "name": "stdout",
     "output_type": "stream",
     "text": [
      "There are several strategies you can consider to increase your income:\n",
      "\n",
      "1. Improve your skills: Invest in education or training to make yourself more valuable in your field.\n",
      "\n",
      "2. Ask for a raise: If you're employed, showcase your value and request a salary increase.\n",
      "\n",
      "3. Change jobs: Look for higher-paying positions in your industry.\n",
      "\n",
      "4. Start a side hustle: Utilize your skills to earn extra income outside your main job.\n",
      "\n",
      "5. Freelance or consult: Offer your expertise to clients on a project basis.\n",
      "\n",
      "6. Invest: Learn about and invest in stocks, real estate, or other assets for long-term growth.\n",
      "\n",
      "7. Create passive income streams: Develop products, content, or services that can generate ongoing revenue.\n",
      "\n",
      "8. Network: Build professional relationships that may lead to new opportunities.\n",
      "\n",
      "9. Reduce expenses: Analyze your spending and cut unnecessary costs to retain more of your earnings.\n",
      "\n",
      "10. Negotiate better: Improve your negotiation skills for better deals in business and employment.\n",
      "\n",
      "11. Start a business: If you have an entrepreneurial spirit, consider starting your own company.\n",
      "\n",
      "12. Develop multiple income sources: Diversify your income to increase overall earnings and financial stability.\n",
      "\n",
      "Remember, increasing your income often requires time, effort, and patience. Choose strategies that align with your skills, interests, and long-term goals.\n"
     ]
    }
   ],
   "source": [
    "response_multiple_messages=client.messages.create(\n",
    "    model=\"claude-3-5-sonnet-20240620\",\n",
    "    max_tokens=1000,\n",
    "    messages=[{\"role\": \"user\",\n",
    "               \"content\": \"Why is so difficult to make money?\"},\n",
    "               {\"role\": \"assistant\",\n",
    "               \"content\": \"Because you are not working hard enough.\"\n",
    "               },\n",
    "               {\"role\": \"user\",\n",
    "               \"content\": \"What can I do to make more money?\"}\n",
    "    ]\n",
    ")\n",
    "\n",
    "print(response_multiple_messages.content[0].text)"
   ]
  },
  {
   "cell_type": "markdown",
   "metadata": {},
   "source": [
    "### Now, let's dive into inspecting the message response and discuss the potential uses of the additional information provided. 🕵️‍♂️🔍\n",
    "\n",
    "When we don't use .content[0].text, we get a \"raw\" response ( I call it raw because is filled with tons of info and most of the time we only want the specific text output) that includes various metadata. Here's a breakdown of a typical response structure:\n",
    "\n",
    "### Let's go through each component and discuss its potential uses:\n",
    "\n",
    "* 1. **`id`**: A unique identifier for the message. This can be useful for logging, debugging, or tracking conversations in more complex applications. 🆔🔍\n",
    "\n",
    "* 2. **`content`**: The actual response content. It's a list of ContentBlock objects, which allows for potential multi-modal responses (though in this case, it's just text). 📝💬\n",
    "\n",
    "* 3. **`model`**: Indicates which Claude model was used. This can be helpful for version control, performance tracking, or billing purposes. 🤖📊\n",
    "\n",
    "* 4. **`role`**: Always \"assistant\" for Claude's responses. This is mainly for consistency with the message format used in requests. 🎭🔄\n",
    "\n",
    "* 5. **`stop_reason`**: Indicates why the model stopped generating. This can be useful for understanding if the response was truncated or completed naturally. 🛑🧐\n",
    "\n",
    "* 6. **`stop_sequence`**: If a specific stop sequence was used to end generation, it would be shown here. This can be helpful when using custom stop sequences. 🔚🔠\n",
    "\n",
    "* 7. **`type`**: Always \"message\" for these responses. This is for consistency with other potential response types in the API. 📨🔤\n",
    "\n",
    "* 8. **`usage`**: Contains token usage information, which is crucial for: 📊💡\n",
    "    * Monitoring API usage and costs 💰\n",
    "    * Optimizing prompts for efficiency ⚡\n",
    "    * Ensuring responses fit within token limits 📏"
   ]
  },
  {
   "cell_type": "markdown",
   "metadata": {},
   "source": [
    "### Let's play around with the previous components to better understand them. First, we will need to print(response_multimplemessages) to see the total output. 🔍"
   ]
  },
  {
   "cell_type": "code",
   "execution_count": 6,
   "metadata": {},
   "outputs": [
    {
     "name": "stdout",
     "output_type": "stream",
     "text": [
      "Message(id='msg_01N8rdx3GVf9pX9RXSx8cZwV', content=[TextBlock(text=\"There are several strategies you can consider to increase your income:\\n\\n1. Improve your skills: Invest in education or training to make yourself more valuable in your field.\\n\\n2. Ask for a raise: If you're employed, showcase your value and request a salary increase.\\n\\n3. Change jobs: Look for higher-paying positions in your industry.\\n\\n4. Start a side hustle: Utilize your skills to earn extra income outside your main job.\\n\\n5. Freelance or consult: Offer your expertise to clients on a project basis.\\n\\n6. Invest: Learn about and invest in stocks, real estate, or other assets for long-term growth.\\n\\n7. Create passive income streams: Develop products, content, or services that can generate ongoing revenue.\\n\\n8. Network: Build professional relationships that may lead to new opportunities.\\n\\n9. Reduce expenses: Analyze your spending and cut unnecessary costs to retain more of your earnings.\\n\\n10. Negotiate better: Improve your negotiation skills for better deals in business and employment.\\n\\n11. Start a business: If you have an entrepreneurial spirit, consider starting your own company.\\n\\n12. Develop multiple income sources: Diversify your income to increase overall earnings and financial stability.\\n\\nRemember, increasing your income often requires time, effort, and patience. Choose strategies that align with your skills, interests, and long-term goals.\", type='text')], model='claude-3-5-sonnet-20240620', role='assistant', stop_reason='end_turn', stop_sequence=None, type='message', usage=Usage(input_tokens=38, output_tokens=298))\n"
     ]
    }
   ],
   "source": [
    "print(response_multiple_messages)"
   ]
  },
  {
   "cell_type": "markdown",
   "metadata": {},
   "source": [
    "#### So if you run the previous cell you could check that the raw output was this:\n",
    "\n",
    "Message(id='msg_01N8rdx3GVf9pX9RXSx8cZwV', content=[TextBlock(text=\"There are several strategies you can consider to increase your income:\\n\\n1. Improve your skills: Invest in education or training to make yourself more valuable in your field.\\n\\n2. Ask for a raise: If you're employed, showcase your value and request a salary increase.\\n\\n3. Change jobs: Look for higher-paying positions in your industry.\\n\\n4. Start a side hustle: Utilize your skills to earn extra income outside your main job.\\n\\n5. Freelance or consult: Offer your expertise to clients on a project basis.\\n\\n6. Invest: Learn about and invest in stocks, real estate, or other assets for long-term growth.\\n\\n7. Create passive income streams: Develop products, content, or services that can generate ongoing revenue.\\n\\n8. Network: Build professional relationships that may lead to new opportunities.\\n\\n9. Reduce expenses: Analyze your spending and cut unnecessary costs to retain more of your earnings.\\n\\n10. Negotiate better: Improve your negotiation skills for better deals in business and employment.\\n\\n11. Start a business: If you have an entrepreneurial spirit, consider starting your own company.\\n\\n12. Develop multiple income sources: Diversify your income to increase overall earnings and financial stability.\\n\\nRemember, increasing your income often requires time, effort, and patience. Choose strategies that align with your skills, interests, and long-term goals.\", type='text')], model='claude-3-5-sonnet-20240620', role='assistant', stop_reason='end_turn', stop_sequence=None, type='message', usage=Usage(input_tokens=38, output_tokens=298))"
   ]
  },
  {
   "cell_type": "markdown",
   "metadata": {},
   "source": [
    "#### For the previous output we can identify the following components:\n",
    " \n",
    "* 1. **`id`**: 'msg_01N8rdx3GVf9pX9RXSx8cZwV'\n",
    "* 2. **`content`**: [TextBlock(text=\"There are several strategies you can consider to increase your income:...\", type='text')]\n",
    "* 3. **`model`**: 'claude-3-5-sonnet-20240620'\n",
    "* 4. **`role`**: 'assistant'\n",
    "* 5. **`stop_reason`**: 'end_turn'\n",
    "* 6. **`stop_sequence`**: None\n",
    "* 7. **`type`**: 'message'\n",
    "* 8. **`usage`**: Usage(input_tokens=38, output_tokens=298)"
   ]
  },
  {
   "cell_type": "markdown",
   "metadata": {},
   "source": [
    "#### And now, an important part: the money 💰💸 we spend on an API call like this. Let's calculate it using the previous example, knowing that the cost for the 'claude-3-5-sonnet-20240620' model is $0.003 per 1000 input tokens 📥💲 and $0.015 per 1000 output tokens 📤💲. Time to crunch some numbers! 🧮🤑"
   ]
  },
  {
   "cell_type": "markdown",
   "metadata": {},
   "source": [
    "#### First print the response_multiple_message retrieving the usage information and use that info to calculate the total cost of the API call. Usage output in the message comes in this format: usage=Usage(input_tokens=38, output_tokens=298)"
   ]
  },
  {
   "cell_type": "code",
   "execution_count": 8,
   "metadata": {},
   "outputs": [
    {
     "name": "stdout",
     "output_type": "stream",
     "text": [
      "The cost of the input was $0.000114\n",
      "The cost of the output was $0.004470\n",
      "The total cost of the API call was $0.004584\n"
     ]
    }
   ],
   "source": [
    "# Calculate the cost of the input and output aseparated and them the sum of both.\n",
    "def calculate_input_cost(input_tokens):\n",
    "    return input_tokens * 0.003 / 1000\n",
    "\n",
    "def calculate_output_cost(output_tokens):\n",
    "    return output_tokens * 0.015 / 1000\n",
    "\n",
    "input_cost = calculate_input_cost(response_multiple_messages.usage.input_tokens)\n",
    "output_cost = calculate_output_cost(response_multiple_messages.usage.output_tokens)\n",
    "total_cost = input_cost + output_cost\n",
    "\n",
    "print(f\"The cost of the input was ${input_cost:.6f}\")\n",
    "print(f\"The cost of the output was ${output_cost:.6f}\")\n",
    "print(f\"The total cost of the API call was ${total_cost:.6f}\")"
   ]
  },
  {
   "cell_type": "markdown",
   "metadata": {},
   "source": [
    "# <div align=\"center\">🏋️‍♂️ Exercise Time! 💪🧠</div>"
   ]
  },
  {
   "cell_type": "markdown",
   "metadata": {},
   "source": [
    "### 🌍🗣️ Let's Create a Translation Function! 🚀✨\n",
    "\n",
    "In this exercise, we'll build a powerful translation tool using Claude's API. Here's what we're going to do:\n",
    "\n",
    "#### Our Mission:\n",
    "1. 📝 Define a function called `translate`\n",
    "2. 🎯 The function will take two arguments:\n",
    "   - A word to translate 📚\n",
    "   - The target language 🏳️\n",
    "3. 🤖 Use Claude's API to perform the translation\n",
    "4. 🔄 Return the translated word\n",
    "\n",
    "This function will allow us to easily translate words into different languages, leveraging the power of Claude's language understanding capabilities. In the next code cell, we'll implement this function and test it out!\n",
    "\n",
    "Let's get ready to code and explore the world of multilingual communication! 💪🧠"
   ]
  },
  {
   "cell_type": "code",
   "execution_count": 25,
   "metadata": {},
   "outputs": [
    {
     "name": "stdout",
     "output_type": "stream",
     "text": [
      "The phrase \"I need it like water of May\" doesn't have a direct, word-for-word translation in Spanish that would convey the same meaning. This appears to be an idiomatic expression, and idioms often don't translate directly between languages.\n",
      "\n",
      "However, a similar expression in Spanish that conveys a sense of urgent need is:\n",
      "\n",
      "\"Lo necesito como el agua de mayo\"\n",
      "\n",
      "This phrase is used in some Spanish-speaking countries and literally translates to \"I need it like the water of May.\" In agricultural contexts, May rain is considered very beneficial for crops in some regions, so this expression conveys a sense of something being urgently needed or highly desirable.\n",
      "\n",
      "It's worth noting that idiomatic expressions can vary greatly between different Spanish-speaking countries and regions. The most appropriate translation might depend on the specific context and the target audience.\n"
     ]
    }
   ],
   "source": [
    "# First denine the trasnalte function that accepts two arguments: word and language.\n",
    "def translate(word: str, language: str) -> str:  # 🔤➡️🌐 As you can see, here we even went a step further by specifying the type of the arguments and the return type and using the \"->\" that is used to specify the return type in Python 😙✨\n",
    "    \"\"\"\n",
    "    Translates a given word into the specified language using Claude's API.\n",
    "\n",
    "    Args:\n",
    "    word (str): The word to be translated.\n",
    "    language (str): The target language for translation.\n",
    "    \"\"\"\n",
    "    # First define the variables that will store the input and output of the Claude API call.\n",
    "    word = \"I need it like water of May\"\n",
    "    language = \"Spanish\"\n",
    "    # Now we can use the Claude API to translate the word into the language.\n",
    "    response = client.messages.create(\n",
    "        model=\"claude-3-5-sonnet-20240620\",\n",
    "        max_tokens=1000,\n",
    "        messages=[{\"role\": \"user\",\n",
    "                   \"content\": f\"Translate the following word into {language}: {word}\"}\n",
    "        ]\n",
    "    )\n",
    "    # Return the translated word.\n",
    "    return response.content[0].text\n",
    "\n",
    "# Now we can test the function by calling it with a word and a language.\n",
    "print(translate(\"I need it like water of May\", \"Spanish\"))\n"
   ]
  },
  {
   "cell_type": "markdown",
   "metadata": {},
   "source": [
    "After running the previous ceel, you found that Claude-sonnet-3.5 is smart as fuck. 🤯💡 He answered, \"I apologize, but there's a small issue with the phrase you've provided. \"I need it like the water of May\" is not a common English expression. It appears to be a literal translation of a Spanish idiom, \"Lo necesito como agua de mayo,\" which doesn't have a direct equivalent in English.\" 🇪🇸💦🌼\n",
    "\n",
    "The guy is right because I used that word on purpose. It is a typical Spanish expression, and he caught it. \n",
    "\n",
    "**🕵️‍♂️🎯 Who says that these LLMs are stupid? 🤔🧠🚀😂**"
   ]
  },
  {
   "cell_type": "markdown",
   "metadata": {},
   "source": [
    "### Messages List Use Cases 📝🗂️\n",
    " \n",
    "#### Guiding Claude's Responses 🧭🤖\n",
    "\n",
    "<p>A powerful technique for obtaining specific outputs is to \"guide\" Claude's responses. This involves providing both user and assistant messages in the conversation history. 🎭💬</p>\n",
    "\n",
    "<p>When using Anthropic's API, you're not restricted to just user messages. By including an assistant message, you can influence how Claude continues the conversation. Remember, the conversation must always begin with a user message. 🔑🗣️</p>\n",
    "\n",
    "<p>For example, if we want Claude to generate another romantic phrase based on a previous response, we can structure the conversation like this: 💖🌹</p>\n",
    "\n",
    "```python\n",
    "messages=[\n",
    "        {\"role\": \"user\", \"content\": f\"Generate a beautiful phrase to seduce women\"},\n",
    "        {\"role\": \"assistant\", \"content\": \"Your skin is like the moonlight, illuminating the darkest corners of my soul.\"} # This is so flashy 😂\n",
    "    ]\n",
    "```\n",
    "\n",
    "<p>In this example, we provide Claude with a user message requesting a romantic phrase, followed by an assistant message containing a previously generated response. This setup guides Claude to generate another romantic phrase in a similar style, potentially building upon or complementing the existing one. 🌟💕</p>"
   ]
  },
  {
   "cell_type": "code",
   "execution_count": 39,
   "metadata": {},
   "outputs": [
    {
     "name": "stdout",
     "output_type": "stream",
     "text": [
      "Your skin is like the moonlight, illuminating the darkest corners of my soul.\n",
      "Your eyes shine brighter than the stars, drawing me in like a celestial siren.\n",
      "Your voice is a symphony that captivates my senses, leaving me intoxicated by your allure.\n",
      "I am but a humble poet, yearning to bask in the warmth of your affection.\n"
     ]
    }
   ],
   "source": [
    "\n",
    "# Now we can use the Claude API to translate the word into the language.\n",
    "romantic_phrase = client.messages.create(\n",
    "    model=\"claude-3-haiku-20240307\",\n",
    "    max_tokens=1000,\n",
    "    temperature=0.7,\n",
    "    system=\"You are a romantic poet. Your responses should be poetic and seductive.\",\n",
    "    messages=[\n",
    "        {\"role\": \"user\", \"content\": \"Generate a beautiful phrase to seduce a girl\"},\n",
    "        {\"role\": \"assistant\", \"content\": \"Your skin is like the moonlight, illuminating the darkest corners of my soul.\"}\n",
    "             \n",
    "\n",
    "        ]\n",
    "    )\n",
    "print(\"Your skin is like the moonlight, illuminating the darkest corners of my soul.\" + romantic_phrase.content[0].text)\n"
   ]
  },
  {
   "cell_type": "markdown",
   "metadata": {},
   "source": [
    "# <div align=\"center\">🎯 Few-shot Prompting 🧠</div>"
   ]
  },
  {
   "cell_type": "markdown",
   "metadata": {},
   "source": [
    "### 🚀 Let's dive into a real-world example of sentiment analysis using few-shot prompting! We'll analyze a tweet reported for potentially harmful content.\n",
    "\n",
    "#### Imagine we're moderators tasked with evaluating the sentiment and potential harm in reported tweets. We'll use Claude to help us analyze a specific tweet that was flagged.\n",
    "\n",
    "#### Here's how we'd do it in code:\n",
    "```python\n",
    "tweet_offensive = client.messages.create(\n",
    "    model=\"claude-3-haiku-20240307\",\n",
    "    max_tokens=500,\n",
    "    messages=[\n",
    "        {\"role\": \"user\", \"content\": \"Analyze the sentiment and potential harm in this tweet:\"},\n",
    "        {\"role\": \"assistant\", \"content\": \"Certainly! I'll analyze the tweet for sentiment and potential harm. What's the tweet?\"},\n",
    "        {\"role\": \"user\", \"content\": \"@Cisco_research @CarrascosaCris_ Otro tonto que no se ha leído que es para patrimonios superiores a 100M de dólares. Seguro que a ti te afectaría el primero 🤣\"},\n",
    "        {\"role\": \"assistant\", \"content\": \"I'll analyze this Spanish tweet for sentiment and potential harm:\"}\n",
    "    ]\n",
    ")\n",
    "\n",
    "print(tweet_offensive.content[0].text)\n",
    "```\n",
    "\n",
    "#### Now let's analyze the output and discuss the potential uses of the additional information provided. 🕵️‍♂️🔍\n",
    "\n",
    "```python\n",
    "\n",
    "1. Sentiment: Negative and mocking\n",
    "2. Potential harm: Moderate\n",
    "3. Key points:\n",
    "   - The tweet calls someone a 'tonto' (fool/idiot), which is insulting\n",
    "   - It implies the person hasn't read or understood something important\n",
    "   - It sarcastically suggests the person would be affected by a policy for wealth over 100M dollars\n",
    "   - The laughing emoji at the end adds a mocking tone\n"
   ]
  },
  {
   "cell_type": "code",
   "execution_count": 40,
   "metadata": {},
   "outputs": [
    {
     "name": "stdout",
     "output_type": "stream",
     "text": [
      " \n",
      "\n",
      "Sentiment Analysis:\n",
      "The tweet has a negative sentiment, using insulting language like \"otro tonto\" (another fool) and a laughing emoji at the end, which suggests the tweet is mocking or ridiculing the person it's directed at.\n",
      "\n",
      "Potential Harm:\n",
      "The tweet could be considered harmful as it contains personal attacks and insults directed at another person. The mocking tone and derogatory language used could be seen as an attempt to belittle or humiliate the other person. This type of tweet has the potential to contribute to an atmosphere of disrespect and harassment, especially if it's part of a larger pattern of behavior.\n",
      "\n",
      "Overall, this tweet exhibits a negative, disparaging sentiment and has the potential to cause harm to the person it's directed at through the use of insults and mockery. It would be best to avoid this type of content, as it does not contribute positively to online discourse.\n"
     ]
    }
   ],
   "source": [
    "tweet_offensive = client.messages.create(\n",
    "    model=\"claude-3-haiku-20240307\",\n",
    "    max_tokens=500,\n",
    "    messages=[\n",
    "        {\"role\": \"user\", \"content\": \"Analyze the sentiment and potential harm in this tweet:\"},\n",
    "        {\"role\": \"assistant\", \"content\": \"Certainly! I'll analyze the tweet for sentiment and potential harm. What's the tweet?\"},\n",
    "        {\"role\": \"user\", \"content\": \"@Cisco_research @CarrascosaCris_ Otro tonto que no se ha leído que es para patrimonios superiores a 100M de dólares. Seguro que a ti te afectaría el primero 🤣\"},\n",
    "        {\"role\": \"assistant\", \"content\": \"I'll analyze this Spanish tweet for sentiment and potential harm:\"}\n",
    "    ]\n",
    ")\n",
    "\n",
    "print(tweet_offensive.content[0].text)"
   ]
  },
  {
   "cell_type": "markdown",
   "metadata": {},
   "source": [
    "### And we can make Claude just outputing if the tweet is \"NEGATIVE\" 😠, \"POSITIVE\" 😊, or \"NEUTRAL\" 😐 based on a conversation."
   ]
  },
  {
   "cell_type": "code",
   "execution_count": 42,
   "metadata": {},
   "outputs": [
    {
     "name": "stdout",
     "output_type": "stream",
     "text": [
      "POSITIVE 😊\n"
     ]
    }
   ],
   "source": [
    "tweet_offensive = client.messages.create(\n",
    "    model=\"claude-3-haiku-20240307\",\n",
    "    max_tokens=500,\n",
    "    messages=[\n",
    "        {\"role\": \"user\", \"content\": \"@Cisco_research @CarrascosaCris_ Otro tonto que no se ha leído que es para patrimonios superiores a 100M de dólares. Seguro que a ti te afectaría el primero 🤣\"},\n",
    "        {\"role\": \"assistant\", \"content\": \"NEGATIVE 😠\"},\n",
    "        {\"role\": \"user\", \"content\": \"La nueva política fiscal es justa y necesaria para reducir la desigualdad en nuestro país.\"},\n",
    "        {\"role\": \"assistant\", \"content\": \"POSITIVE 😊\"},\n",
    "        {\"role\": \"user\", \"content\": \"Estos políticos solo saben robar y mentir. ¡Que se vayan todos!\"},\n",
    "        {\"role\": \"assistant\", \"content\": \"NEGATIVE 😠\"},\n",
    "        {\"role\": \"user\", \"content\": \"Acabo de leer el informe completo sobre la reforma tributaria. Es más equilibrada de lo que pensaba inicialmente.\"},\n",
    "    ]\n",
    ")\n",
    "print(tweet_offensive.content[0].text)"
   ]
  },
  {
   "cell_type": "markdown",
   "metadata": {},
   "source": [
    "# <div align=\"center\">🤖 Last exercise: build a chatbot 🤖</div>"
   ]
  },
  {
   "cell_type": "markdown",
   "metadata": {},
   "source": [
    "### Instructions: 🤖\n",
    "\n",
    "#### Build a simple multi-turn command-line chatbot script. The messages format lends itself to building chat-based applications. To build a chat-bot with Claude, it's as simple as:\n",
    "\n",
    "* 1️⃣ Keep a list to store the conversation history 📜\n",
    "\n",
    "* 2️⃣ Ask a user for a message using input() and add the user input to the messages list 💬\n",
    "\n",
    "* 3️⃣ Send the message history to Claude 🚀\n",
    "\n",
    "* 4️⃣ Print out Claude's response to the user 🖨️\n",
    "\n",
    "* 5️⃣ Add Claude's assistant response to the history 📝\n",
    "\n",
    "* 6️⃣ Go back to step 2 and repeat! (use a loop and provide a way for users to quit!) 🔁"
   ]
  },
  {
   "cell_type": "markdown",
   "metadata": {},
   "source": [
    "### Chatbot Interaction\n",
    "\n",
    "#### Note on Jupyter Notebook Limitations\n",
    "\n",
    "Working with `input()` fields in a Jupyter notebook can be challenging. To provide a smoother experience, we've created a separate Python script for the chatbot functionality.\n",
    "\n",
    "#### How to Use the Chatbot\n",
    "\n",
    "Please refer to the `chatbot.py` file in the root folder of this project to interact with the chatbot. You can run the script from your command line to start a conversation with Claude.\n",
    "\n",
    "To use the chatbot:\n",
    "\n",
    "1. Open a terminal or command prompt\n",
    "2. Navigate to the project root directory\n",
    "3. Run the command: `python chatbot.py`\n",
    "\n",
    "This will start the chatbot, allowing you to interact with Claude directly from the command line."
   ]
  },
  {
   "cell_type": "markdown",
   "metadata": {},
   "source": [
    "### The Great Jupyter Input Conundrum 🎭\n",
    "\n",
    "#### So, you want to use input() in Jupyter, huh? 🤔\n",
    "\n",
    "Well, well, well... aren't we ambitious today? 😏 Turns out, Jupyter notebooks are like that one friend who always has to be different. They just don't play nice with input(). But fear not, intrepid coder! We've got a workaround that's so nifty, it'll make you forget all about that pesky input() function.\n",
    "\n",
    "### Behold, the Widget Wonder! 🎩✨\n",
    "\n",
    "Enter IPython widgets, stage left. 🎭 These little beauties are like the Swiss Army knife of Jupyter interactivity. With widgets, you can create a chatbot interface that's... well, let's just say it won't win any beauty pageants, but it gets the job done! 🏆\n",
    "\n",
    "Here's the deal:\n",
    "\n",
    "- You get text boxes for typing (ooh, fancy! 🖋️)\n",
    "- Buttons for sending messages (push me, push me! 👆)\n",
    "- And a display area for the conversation (it's like texting, but nerdier 🤓)\n",
    "\n",
    "### How to Make the Magic Happen 🚀\n",
    "\n",
    "*1* Import the cool kids (aka widgets)\n",
    "*2* Create some text boxes and buttons\n",
    "*3* Sprinkle in a bit of Python fairy dust (functions, you know?)\n",
    "*4* Display your masterpiece\n",
    "\n",
    "And voilà! You've got yourself a chatbot interface that would make even the most basic of web developers say, \"Eh, not bad.\" 👨‍💻👍\n",
    "\n",
    "### Remember, Keep Your Expectations Low 🎈\n",
    "\n",
    "Look, we're not building the next ChatGPT interface here. This is more like \"ChatGPT at home\" 🏠. It's functional, it's there, and it doesn't throw errors at you like a disgruntled vending machine. That's a win in my book!\n",
    "\n",
    "So go forth, you magnificent code wizard, and create the most okayest chatbot interface Jupyter has ever seen! 🧙‍♂️✨ Who needs input() anyway? (Don't answer that.)"
   ]
  },
  {
   "cell_type": "code",
   "execution_count": null,
   "metadata": {},
   "outputs": [],
   "source": [
    "! pip install ipywidgets\n"
   ]
  },
  {
   "cell_type": "code",
   "execution_count": 6,
   "metadata": {},
   "outputs": [
    {
     "name": "stdout",
     "output_type": "stream",
     "text": [
      "Yes\n"
     ]
    },
    {
     "data": {
      "application/vnd.jupyter.widget-view+json": {
       "model_id": "6d884a6d540f47799c8e88e0a78f7447",
       "version_major": 2,
       "version_minor": 0
      },
      "text/plain": [
       "VBox(children=(Text(value='', placeholder='Type your message here...'), Button(description='Send', style=Butto…"
      ]
     },
     "metadata": {},
     "output_type": "display_data"
    }
   ],
   "source": [
    "# Import necessary widgets\n",
    "from ipywidgets import widgets\n",
    "from IPython.display import display, clear_output\n",
    "import anthropic\n",
    "from dotenv import load_dotenv\n",
    "import os\n",
    "\n",
    "load_dotenv()  # This loads the variables from .env\n",
    "api_key = os.getenv(\"ANTHROPIC_API_KEY\")\n",
    "client = anthropic.Anthropic(api_key=api_key)\n",
    "\n",
    "if client.api_key:\n",
    "    print(\"Yes\")\n",
    "else:\n",
    "    print(\"No\")\n",
    "\n",
    "\n",
    "# Initialize conversation history\n",
    "conversation_history = []\n",
    "\n",
    "# Create input widget and output widget\n",
    "input_widget = widgets.Text(placeholder='Type your message here...')\n",
    "output_widget = widgets.Output()\n",
    "\n",
    "# Function to handle user input and generate response\n",
    "def on_submit(b):\n",
    "    user_message = input_widget.value\n",
    "    input_widget.value = ''  # Clear input after submission\n",
    "    \n",
    "    with output_widget:\n",
    "        clear_output()\n",
    "        \n",
    "        if user_message.lower() == \"quit\":\n",
    "            print(\"Chatbot: Goodbye!\")\n",
    "            return\n",
    "        \n",
    "        print(f\"You: {user_message}\")\n",
    "        conversation_history.append({\"role\": \"user\", \"content\": user_message})\n",
    "        \n",
    "        response = client.messages.create(\n",
    "            model=\"claude-3-haiku-20240307\",\n",
    "            max_tokens=500,\n",
    "            messages=conversation_history\n",
    "        )\n",
    "        \n",
    "        assistant_message = response.content[0].text\n",
    "        print(f\"Chatbot: {assistant_message}\")\n",
    "        conversation_history.append({\"role\": \"assistant\", \"content\": assistant_message})\n",
    "\n",
    "# Set up the submit button\n",
    "submit_button = widgets.Button(description=\"Send\")\n",
    "submit_button.on_click(on_submit)\n",
    "\n",
    "# Display the chat interface\n",
    "display(widgets.VBox([input_widget, submit_button, output_widget]))"
   ]
  }
 ],
 "metadata": {
  "kernelspec": {
   "display_name": "Python 3",
   "language": "python",
   "name": "python3"
  },
  "language_info": {
   "codemirror_mode": {
    "name": "ipython",
    "version": 3
   },
   "file_extension": ".py",
   "mimetype": "text/x-python",
   "name": "python",
   "nbconvert_exporter": "python",
   "pygments_lexer": "ipython3",
   "version": "3.9.5"
  }
 },
 "nbformat": 4,
 "nbformat_minor": 2
}
