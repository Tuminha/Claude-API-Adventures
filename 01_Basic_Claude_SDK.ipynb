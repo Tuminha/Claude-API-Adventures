{
 "cells": [
  {
   "cell_type": "markdown",
   "metadata": {},
   "source": [
    "# 🎯 Lesson Goals\n",
    "\n",
    "## In this first lesson, you'll learn how to:\n",
    "\n",
    "### 📦 Install the necessary packages and authenticate with the API\n",
    "\n",
    "### 🤖 Make your first request to the Claude AI assistant"
   ]
  },
  {
   "cell_type": "code",
   "execution_count": null,
   "metadata": {},
   "outputs": [],
   "source": [
    "!pip install anthropic \n",
    "!pip install python-dotenv\n"
   ]
  },
  {
   "cell_type": "markdown",
   "metadata": {},
   "source": [
    "### 🔑 Import API key from .env file "
   ]
  },
  {
   "cell_type": "code",
   "execution_count": 2,
   "metadata": {},
   "outputs": [
    {
     "name": "stdout",
     "output_type": "stream",
     "text": [
      "API key loaded: Yes\n"
     ]
    }
   ],
   "source": [
    "from dotenv import load_dotenv\n",
    "import os\n",
    "\n",
    "load_dotenv()\n",
    "my_api_key = os.getenv(\"ANTHROPIC_API_KEY\")\n",
    "\n",
    "# Checks if is being imported and printed.\n",
    "print(\"API key loaded:\", \"Yes\" if my_api_key else \"No\")"
   ]
  },
  {
   "cell_type": "markdown",
   "metadata": {},
   "source": [
    "### 0️⃣ Making basic requests with the client\n",
    "\n",
    "With the anthropic package installed and your API key loaded, you're ready to start making requests to the Claude API.\n",
    "\n",
    "The first step is to create a client object, which serves as the main entry point for interacting with the API."
   ]
  },
  {
   "cell_type": "code",
   "execution_count": 2,
   "metadata": {},
   "outputs": [
    {
     "name": "stdout",
     "output_type": "stream",
     "text": [
      "<anthropic.Anthropic object at 0x10aa5f8b0>\n",
      "<anthropic.Anthropic object at 0x10aa86f40>\n"
     ]
    }
   ],
   "source": [
    "from anthropic import Anthropic\n",
    "\n",
    "client = Anthropic(\n",
    "    api_key=my_api_key\n",
    ")\n",
    "\n",
    "print(client)\n",
    "\n",
    "# As the anthropic SDK automatically looks for an environment variable called \"ANTHROPIC_API_KEY\" we can also do this:\n",
    "client = Anthropic()\n",
    "\n",
    "print(client)\n",
    "\n",
    "# If it is correct we shoudl see two anthropic objects."
   ]
  },
  {
   "cell_type": "markdown",
   "metadata": {},
   "source": [
    "### 1️⃣ Our first request (nervous 😬?)\n",
    "\n",
    "To send a message to Claude and receive a response, we'll use the messages.create() method of the client object. Easy peasy!"
   ]
  },
  {
   "cell_type": "code",
   "execution_count": 3,
   "metadata": {},
   "outputs": [
    {
     "name": "stdout",
     "output_type": "stream",
     "text": [
      "\n",
      " If we print the entire variable, it will return a lot of information metadata and other information besides just the content of Claude's response.\n",
      "Message(id='msg_01KCmUAceNvxZswyFi8drxss', content=[TextBlock(text=\"AI in Dentistry: Revolutionizing Oral Healthcare\\n\\nArtificial intelligence is transforming dentistry, enhancing diagnosis, treatment planning, and patient care. AI-powered tools are becoming indispensable for modern dental practices.\\n\\nDiagnostic Precision:\\nAI algorithms analyze dental images with remarkable accuracy, detecting cavities, periodontal disease, and even early-stage oral cancers. These systems can identify subtle patterns that human eyes might miss, leading to earlier interventions and better outcomes.\\n\\nTreatment Planning:\\nAI assists dentists in creating personalized treatment plans by analyzing patient data, medical history, and 3D scans. It can predict treatment outcomes and suggest optimal approaches, improving decision-making and patient satisfaction.\\n\\nStreamlined Workflows:\\nAI-driven automation streamlines administrative tasks, appointment scheduling, and inventory management. This allows dental professionals to focus more on patient care and less on paperwork.\\n\\nPatient Education:\\nInteractive AI tools help educate patients about their oral health, treatment options, and preventive care. This improves patient engagement and compliance with recommended treatments.\\n\\nPredictive Analytics:\\nAI can forecast potential dental issues based on a patient's history and genetic factors, enabling proactive interventions and personalized preventive care strategies.\\n\\nAs AI continues to evolve, it promises to make dental care more efficient, accurate, and accessible. While it won't replace human dentists, AI will become an invaluable partner in delivering optimal oral healthcare.\", type='text')], model='claude-3-5-sonnet-20240620', role='assistant', stop_reason='end_turn', stop_sequence=None, type='message', usage=Usage(input_tokens=21, output_tokens=311))\n",
      "\n",
      " To print just the content of Claude's response, we can access the 'content' key of the first message object in the 'messages' list.\n",
      "AI in Dentistry: Revolutionizing Oral Healthcare\n",
      "\n",
      "Artificial intelligence is transforming dentistry, enhancing diagnosis, treatment planning, and patient care. AI-powered tools are becoming indispensable for modern dental practices.\n",
      "\n",
      "Diagnostic Precision:\n",
      "AI algorithms analyze dental images with remarkable accuracy, detecting cavities, periodontal disease, and even early-stage oral cancers. These systems can identify subtle patterns that human eyes might miss, leading to earlier interventions and better outcomes.\n",
      "\n",
      "Treatment Planning:\n",
      "AI assists dentists in creating personalized treatment plans by analyzing patient data, medical history, and 3D scans. It can predict treatment outcomes and suggest optimal approaches, improving decision-making and patient satisfaction.\n",
      "\n",
      "Streamlined Workflows:\n",
      "AI-driven automation streamlines administrative tasks, appointment scheduling, and inventory management. This allows dental professionals to focus more on patient care and less on paperwork.\n",
      "\n",
      "Patient Education:\n",
      "Interactive AI tools help educate patients about their oral health, treatment options, and preventive care. This improves patient engagement and compliance with recommended treatments.\n",
      "\n",
      "Predictive Analytics:\n",
      "AI can forecast potential dental issues based on a patient's history and genetic factors, enabling proactive interventions and personalized preventive care strategies.\n",
      "\n",
      "As AI continues to evolve, it promises to make dental care more efficient, accurate, and accessible. While it won't replace human dentists, AI will become an invaluable partner in delivering optimal oral healthcare.\n"
     ]
    }
   ],
   "source": [
    "our_first_message = client.messages.create(\n",
    "    model=\"claude-3-5-sonnet-20240620\", #This is the most advanced as today August 23, 2024.\n",
    "    max_tokens=2500, #Max output is 8192 tokens\n",
    "    #Let's break it down what does mean each of the items \"role\": \"user\", \"content\":\n",
    "    # The 'messages' parameter contains a list of message objects.\n",
    "    # Each message object has two key-value pairs:\n",
    "    # 1. 'role': Identifies the speaker (either 'user' or 'assistant')\n",
    "    # 2. 'content': Contains the actual message text\n",
    "    # This structure allows for maintaining context in multi-turn conversations\n",
    "    messages=[\n",
    "        {\"role\": \"user\", \n",
    "         \"content\": \"Hi Claude! Please write an atomic essay about AI in dentistry.\"}\n",
    "    ]\n",
    ")\n",
    "\n",
    "# Now let's print the response that is within our variable 'our_first_message'.\n",
    "# If we print entirely the variable, it will return a lot of information metadata and other information besides just the content of Claude's response.\n",
    "print(\"\\n If we print the entire variable, it will return a lot of information metadata and other information besides just the content of Claude's response.\")\n",
    "print(our_first_message)\n",
    "\n",
    "# To print just the content of Claude's response, we can access the 'content' key of the first message object in the 'messages' list.\n",
    "print(\"\\n To print just the content of Claude's response, we can access the 'content' key of the first message object in the 'messages' list.\")\n",
    "print(our_first_message.content[0].text)"
   ]
  },
  {
   "cell_type": "markdown",
   "metadata": {},
   "source": [
    "### ❌ Is always good to include error handling just in case we have any issue with the API."
   ]
  },
  {
   "cell_type": "code",
   "execution_count": 4,
   "metadata": {},
   "outputs": [
    {
     "name": "stdout",
     "output_type": "stream",
     "text": [
      "The debate surrounding human influence on climate change has been a contentious issue for decades, with numerous factors contributing to the ongoing controversy. This essay will explore the reasons behind the persistent disagreement and why it remains a topic of heated discussion.\n",
      "\n",
      "One of the primary reasons for the controversy is the complex nature of climate science itself. The Earth's climate system is intricate, involving numerous interconnected factors such as atmospheric composition, ocean currents, solar radiation, and geological processes. This complexity makes it challenging to isolate and quantify the exact impact of human activities on global climate patterns, leading to differing interpretations of available data.\n",
      "\n",
      "Another significant factor is the role of vested interests. Many industries, particularly those reliant on fossil fuels, have a financial stake in maintaining the status quo. These industries have often funded research and lobbying efforts that cast doubt on the human role in climate change, creating a conflict between scientific consensus and economic interests. This has led to the politicization of the issue, with different political ideologies aligning themselves with varying stances on climate change.\n",
      "\n",
      "The long-term nature of climate change also contributes to the controversy. Unlike immediate environmental issues such as oil spills or air pollution, the effects of climate change unfold over decades or even centuries. This extended timeframe makes it difficult for people to perceive the direct impacts of their actions on the climate, leading some to question the urgency or reality of the problem.\n",
      "\n",
      "Media representation plays a crucial role in shaping public opinion on climate change. The journalistic principle of presenting \"both sides\" of an issue can sometimes lead to false equivalence, giving equal weight to climate change deniers and the overwhelming majority of climate scientists who support the anthropogenic climate change theory. This can create confusion among the public about the scientific consensus on the issue.\n",
      "\n",
      "Additionally, the global nature of climate change requires international cooperation and shared responsibility, which can be challenging to achieve. Disagreements over who should bear the costs of mitigation efforts and how to implement global policies have further fueled the controversy.\n",
      "\n",
      "Psychological factors also play a role in the ongoing debate. Cognitive biases, such as confirmation bias, can lead individuals to seek out information that confirms their pre-existing beliefs while dismissing contradictory evidence. The concept of climate change can also evoke feelings of guilt, fear, or helplessness, which some people may cope with by denying or downplaying the problem.\n",
      "\n",
      "Lastly, the inherent uncertainty in scientific projections of future climate scenarios provides fodder for skeptics. While there is a strong scientific consensus on human-induced climate change, the exact magnitude and timing of future impacts remain subject to debate. This uncertainty can be exploited to cast doubt on the entire body of climate science.\n",
      "\n",
      "In conclusion, the controversy surrounding human influence on climate change stems from a complex interplay of scientific, economic, political, psychological, and communicational factors. While the scientific consensus strongly supports the theory of anthropogenic climate change, these various elements continue to fuel debate and disagreement in the public sphere. As the effects of climate change become more apparent and immediate, it is crucial to bridge this divide and work towards effective solutions to address this global challenge.\n"
     ]
    }
   ],
   "source": [
    "# Let's do the same, but now with the topic of climate our_second_message = client.messages.create()\n",
    "import anthropic\n",
    "\n",
    "try:\n",
    "    our_second_message = client.messages.create(\n",
    "        model=\"claude-3-5-sonnet-20240620\",\n",
    "        max_tokens=2500,\n",
    "        messages=[\n",
    "            {\"role\": \"user\", \n",
    "             \"content\": \"Hi Claude! Please write an essay why is there so many controversy about if humans are \"\n",
    "                        \"influencing climate change or not.\"}\n",
    "        ]\n",
    "    )\n",
    "    print(our_second_message.content[0].text)\n",
    "except anthropic.APIError as e:\n",
    "    print(f\"An API error occurred: {e}\")\n",
    "except anthropic.APIConnectionError as e:\n",
    "    print(f\"A connection error occurred: {e}\")\n",
    "except anthropic.APITimeoutError as e:\n",
    "    print(f\"The request timed out: {e}\")\n",
    "except anthropic.RateLimitError as e:\n",
    "    print(f\"Rate limit exceeded: {e}\")\n",
    "except Exception as e:\n",
    "    print(f\"An unexpected error occurred: {e}\")\n",
    "\n"
   ]
  }
 ],
 "metadata": {
  "kernelspec": {
   "display_name": "Python 3",
   "language": "python",
   "name": "python3"
  },
  "language_info": {
   "codemirror_mode": {
    "name": "ipython",
    "version": 3
   },
   "file_extension": ".py",
   "mimetype": "text/x-python",
   "name": "python",
   "nbconvert_exporter": "python",
   "pygments_lexer": "ipython3",
   "version": "3.9.5"
  }
 },
 "nbformat": 4,
 "nbformat_minor": 2
}
